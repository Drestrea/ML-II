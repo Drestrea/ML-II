{
 "cells": [
  {
   "cell_type": "markdown",
   "id": "67e876bf",
   "metadata": {},
   "source": [
    "### Point 9"
   ]
  },
  {
   "attachments": {
    "image.png": {
     "image/png": "[encoded data removed]"
    }
   },
   "cell_type": "markdown",
   "id": "1f856f94",
   "metadata": {},
   "source": [
    "![image.png](attachment:image.png)"
   ]
  },
  {
   "cell_type": "markdown",
   "id": "78e0e95d",
   "metadata": {},
   "source": [
    "UMAP, or Uniform Manifold Approximation and Projection, is a dimensionality reduction technique used for visualizing and clustering high-dimensional data. It is based on a mathematical framework that combines ideas from manifold learning and topological data analysis.\n",
    "\n",
    "1. Manifold Learning: UMAP is built on the assumption that the high-dimensional data lies on or near a low-dimensional manifold. A manifold is a topological space that locally resembles a Euclidean space, but globally may have a more complex structure. The aim is to preserve the local neighborhood structure of data points in the high-dimensional space when projecting them onto a lower-dimensional space.\n",
    "\n",
    "2. Fuzzy Topological Structure: UMAP starts by constructing a fuzzy topological representation of the data. It does this by finding the nearest neighbors for each data point and constructing a weighted graph, where the weights represent the strength of the connection between points.\n",
    "\n",
    "3. Optimization Objective: UMAP minimizes a cost function that quantifies the difference between the fuzzy topological representation of the high-dimensional data and the low-dimensional embedding. This cost function is based on the cross-entropy between the probabilities of points being neighbors in the high-dimensional space and their probabilities of being neighbors in the low-dimensional space.\n",
    "\n",
    "4. Stochastic Gradient Descent (SGD): UMAP uses stochastic gradient descent to optimize the cost function. This is an iterative optimization algorithm that makes small updates to the embedding in each step to gradually improve the alignment between the high-dimensional and low-dimensional representations.\n",
    "\n",
    "5. Local and Global Structure Preservation: UMAP aims to balance the preservation of local and global structure. It tries to maintain the relationships between nearby points while also capturing the broader structure of the data.\n",
    "\n",
    "##### UMAP is useful for a variety of tasks:\n",
    "\n",
    "1. Dimensionality Reduction for Visualization: It is widely used for visualizing high-dimensional data in a lower-dimensional space, which can be especially helpful in exploratory data analysis and understanding the underlying structure of the data.\n",
    "\n",
    "2. Clustering: UMAP can be used as a preprocessing step for clustering algorithms. By reducing the dimensionality of the data, it can make clustering more effective.\n",
    "\n",
    "3. Feature Engineering: UMAP can be used to generate features for machine learning models. By embedding the data in a lower-dimensional space, it can reduce the complexity of the input data while retaining its essential characteristics.\n",
    "\n",
    "4. Anomaly Detection: UMAP can help in identifying anomalies or outliers in high-dimensional datasets by projecting them into a lower-dimensional space and looking for deviations from the norm.\n",
    "\n",
    "Overall, UMAP is a versatile technique that finds applications in various domains, including biology, computer vision, natural language processing, and more. It's particularly well-regarded for its ability to capture complex, non-linear relationships in data."
   ]
  },
  {
   "cell_type": "markdown",
   "id": "dc74fe51",
   "metadata": {},
   "source": [
    "### Point 10"
   ]
  },
  {
   "attachments": {
    "image.png": {
     "image/png": "[encoded data removed]"
    }
   },
   "cell_type": "markdown",
   "id": "b87e0069",
   "metadata": {},
   "source": [
    "![image.png](attachment:image.png)"
   ]
  },
  {
   "cell_type": "markdown",
   "id": "79c8339f",
   "metadata": {},
   "source": [
    "# Latent Dirichlet Allocation (LDA) is a probabilistic model used for topic modeling. It is based on a few key mathematical principles:\n",
    "\n",
    "1. Probabilistic Graphical Models (PGMs): LDA is a type of PGM, which is a framework for representing the joint probability distribution of a set of random variables in a graph. In LDA, the random variables are the words in documents and the topics.\n",
    "\n",
    "2. Dirichlet Distribution: LDA assumes that the distribution of topics in a document and the distribution of words in a topic follow the Dirichlet distribution. The Dirichlet distribution is a family of continuous multivariate probability distributions. In the context of LDA, it models the distribution of topics for each document and the distribution of words for each topic.\n",
    "\n",
    "3. Plate Notation: This is a graphical notation used to represent the generative process of LDA. It's a compact way of showing the repeated structure in the model. In LDA, the plate notation typically represents the process of generating words in a document from topics.\n",
    "\n",
    "##### The generative process in LDA can be summarized as follows:\n",
    "\n",
    "1. For each document:\n",
    "\n",
    "- Choose a distribution of topics from a Dirichlet distribution.\n",
    "- For each word in the document:\n",
    "       Choose a topic from the topic distribution.\n",
    "       Choose a word from the word distribution associated with the chosen topic.\n",
    "       \n",
    "2. This generative process is probabilistic in nature, meaning that there's an element of randomness in the selection of topics and words.\n",
    "\n",
    "##### LDA is useful for a variety of applications:\n",
    "\n",
    "1. Topic Modeling: It's primarily used for automatically discovering the topics present in a collection of documents. For example, given a set of news articles, LDA can automatically identify topics like \"politics,\" \"sports,\" \"technology,\" etc.\n",
    "\n",
    "2. Document Clustering: LDA can be used to cluster documents based on their topic distributions. This can be useful in organizing large document collections.\n",
    "\n",
    "3. Information Retrieval: LDA can be used to improve information retrieval systems by allowing for more sophisticated indexing based on topics rather than just keywords.\n",
    "\n",
    "4. Recommendation Systems: LDA can be used to understand the latent structure of user preferences in recommendation systems. This can lead to more accurate and personalized recommendations.\n",
    "\n",
    "5. Text Summarization: LDA can be used to identify the main topics in a document, which can then be used to generate a summary.\n",
    "\n",
    "6. Sentiment Analysis: By identifying the dominant topics in a piece of text, LDA can indirectly contribute to sentiment analysis by providing context.\n",
    "\n",
    "Overall, LDA is a versatile tool for extracting meaningful information from large collections of text data. It has found applications in fields ranging from natural language processing to information retrieval and beyond."
   ]
  },
  {
   "cell_type": "code",
   "execution_count": null,
   "id": "1e422fac",
   "metadata": {},
   "outputs": [],
   "source": []
  }
 ],
 "metadata": {
  "kernelspec": {
   "display_name": "Python 3 (ipykernel)",
   "language": "python",
   "name": "python3"
  },
  "language_info": {
   "codemirror_mode": {
    "name": "ipython",
    "version": 3
   },
   "file_extension": ".py",
   "mimetype": "text/x-python",
   "name": "python",
   "nbconvert_exporter": "python",
   "pygments_lexer": "ipython3",
   "version": "3.10.11"
  }
 },
 "nbformat": 4,
 "nbformat_minor": 5
}
