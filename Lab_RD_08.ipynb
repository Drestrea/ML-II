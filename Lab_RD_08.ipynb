{
 "cells": [
  {
   "attachments": {
    "image.png": {
     "image/png": "[encoded data removed]"
    }
   },
   "cell_type": "markdown",
   "id": "6647d9a7",
   "metadata": {},
   "source": [
    "### Point 8\n",
    "\n",
    "![image.png](attachment:image.png)"
   ]
  },
  {
   "cell_type": "markdown",
   "id": "c791a086",
   "metadata": {},
   "source": [
    "Principal Component Analysis (PCA) is a widely used technique for dimensionality reduction and data compression. To make PCA more robust, several strategies can be employed:\n",
    "\n",
    "1. Standardization (Z-score normalization): Before applying PCA, it's important to standardize the data by subtracting the mean and dividing by the standard deviation. This ensures that all variables contribute equally to the analysis.\n",
    "\n",
    "2. Outlier Detection and Handling:\n",
    "\n",
    "Mahalanobis Distance: Identify and remove outliers using statistical methods.\n",
    "\n",
    "Robust PCA: Use robust PCA algorithms like Randomized SVD, which are less sensitive to outliers.\n",
    "\n",
    "3. Using a Covariance Matrix:\n",
    "\n",
    "Instead of the standard covariance matrix, use alternative covariance estimators like the robust M-estimators or shrinkage estimators.\n",
    "\n",
    "4. Rank Estimation:\n",
    "\n",
    "Use techniques like Singular Value Thresholding (SVT) to estimate the true rank of the data matrix.\n",
    "\n",
    "5. Handling Missing Data:\n",
    "\n",
    "Impute missing values before applying PCA using techniques like mean imputation, regression imputation, or matrix completion methods.\n",
    "\n",
    "6. Sparse PCA:\n",
    "\n",
    "Instead of the traditional PCA, consider using Sparse PCA which promotes sparsity in the loadings, making the resulting components more interpretable and potentially robust to outliers.\n",
    "\n",
    "7. Kernel PCA:\n",
    "\n",
    "Use Kernel PCA when the data is not linearly separable. Kernels can help in capturing non-linear relationships in the data.\n",
    "\n",
    "8. Cross-Validation:\n",
    "\n",
    "Perform cross-validation to assess the stability of the principal components.\n",
    "\n",
    "9. Data Preprocessing Techniques:\n",
    "\n",
    "Use techniques like Winsorizing to replace extreme values with less extreme ones, or apply non-linear transformations to make the data more Gaussian.\n",
    "\n",
    "10. Ensemble PCA:\n",
    "\n",
    "Combine results from multiple PCA runs with different random initializations or subsets of the data to increase stability."
   ]
  },
  {
   "cell_type": "code",
   "execution_count": 1,
   "id": "66cc19b6",
   "metadata": {},
   "outputs": [],
   "source": [
    "import numpy as np\n",
    "from sklearn.preprocessing import StandardScaler\n",
    "from sklearn.covariance import MinCovDet\n",
    "from sklearn.decomposition import PCA\n",
    "\n",
    "# Sample data (replace with your dataset)\n",
    "X = np.random.rand(100, 5)  # 100 samples, 5 features\n",
    "\n",
    "# Step 1: Standardize the data\n",
    "scaler = StandardScaler()\n",
    "X_scaled = scaler.fit_transform(X)\n",
    "\n",
    "# Step 2: Outlier detection and handling using MCD\n",
    "mcd = MinCovDet()\n",
    "mcd.fit(X_scaled)\n",
    "\n",
    "# Define an appropriate threshold for Mahalanobis distance\n",
    "threshold = 3.0  # Adjust this threshold as needed\n",
    "\n",
    "mahalanobis_distances = mcd.mahalanobis(X_scaled)\n",
    "outliers = np.where(mahalanobis_distances > threshold)\n",
    "\n",
    "# Remove outliers\n",
    "X_cleaned = np.delete(X_scaled, outliers, axis=0)\n",
    "\n",
    "# Step 3: Apply PCA to the cleaned data\n",
    "pca = PCA(n_components=2)  # Adjust the number of components as needed\n",
    "pca.fit(X_cleaned)\n",
    "X_pca = pca.transform(X_cleaned)\n",
    "\n",
    "# Now, X_pca contains the PCA-transformed data without outliers and standardized features."
   ]
  }
 ],
 "metadata": {
  "kernelspec": {
   "display_name": "Python 3 (ipykernel)",
   "language": "python",
   "name": "python3"
  },
  "language_info": {
   "codemirror_mode": {
    "name": "ipython",
    "version": 3
   },
   "file_extension": ".py",
   "mimetype": "text/x-python",
   "name": "python",
   "nbconvert_exporter": "python",
   "pygments_lexer": "ipython3",
   "version": "3.10.11"
  }
 },
 "nbformat": 4,
 "nbformat_minor": 5
}
