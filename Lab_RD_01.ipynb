{
 "cells": [
  {
   "cell_type": "markdown",
   "id": "bcb7e5fa",
   "metadata": {},
   "source": [
    "### Point 1"
   ]
  },
  {
   "attachments": {
    "image-5.png": {
     "image/png": "[encoded data removed]"
    }
   },
   "cell_type": "markdown",
   "id": "c7f62c57",
   "metadata": {},
   "source": [
    "![image-5.png](attachment:image-5.png)"
   ]
  },
  {
   "cell_type": "code",
   "execution_count": 1,
   "id": "31da0855",
   "metadata": {},
   "outputs": [],
   "source": [
    "import numpy as np\n",
    "from scipy.linalg import eig"
   ]
  },
  {
   "cell_type": "markdown",
   "id": "369e6d3d",
   "metadata": {},
   "source": [
    "#### matrix creation"
   ]
  },
  {
   "cell_type": "code",
   "execution_count": 2,
   "id": "98872d6c",
   "metadata": {},
   "outputs": [
    {
     "name": "stdout",
     "output_type": "stream",
     "text": [
      "Random Matrix:\n",
      "[[0.645371 0.912646 0.255262 0.273382 0.473662]\n",
      " [0.722346 0.771508 0.825334 0.242026 0.123892]\n",
      " [0.432784 0.684615 0.890185 0.642364 0.081524]\n",
      " [0.897258 0.748886 0.720902 0.749582 0.376962]]\n"
     ]
    }
   ],
   "source": [
    "# Specify the dimensions of the matrix\n",
    "rows = 4\n",
    "columns = 5\n",
    "\n",
    "# Generate a rectangular matrix of random values between 0 and 1 using rand()\n",
    "A_mat = np.random.rand(rows, columns).round(6)\n",
    "\n",
    "print(\"Random Matrix:\")\n",
    "print(A_mat)"
   ]
  },
  {
   "cell_type": "markdown",
   "id": "45ea022e",
   "metadata": {},
   "source": [
    "#### Array range"
   ]
  },
  {
   "cell_type": "code",
   "execution_count": 3,
   "id": "0fe2798c",
   "metadata": {},
   "outputs": [
    {
     "name": "stdout",
     "output_type": "stream",
     "text": [
      "Matrix rank: 4\n"
     ]
    }
   ],
   "source": [
    "# Calculate the rank of the matrix\n",
    "rank = np.linalg.matrix_rank(A_mat)\n",
    "\n",
    "print(\"Matrix rank:\", rank)"
   ]
  },
  {
   "cell_type": "markdown",
   "id": "4183068e",
   "metadata": {},
   "source": [
    "#### Trace of the matrix"
   ]
  },
  {
   "cell_type": "markdown",
   "id": "e8cd03d2",
   "metadata": {},
   "source": [
    "Because the matrix is not square, it is not possible to calculate the trace"
   ]
  },
  {
   "cell_type": "markdown",
   "id": "e0467c5b",
   "metadata": {},
   "source": [
    "#### Determinant of the matrix"
   ]
  },
  {
   "cell_type": "markdown",
   "id": "9836457e",
   "metadata": {},
   "source": [
    "Because the matrix is not square, it is not possible to calculate the determinant"
   ]
  },
  {
   "cell_type": "markdown",
   "id": "d7c95328",
   "metadata": {},
   "source": [
    "#### Matrix inverse"
   ]
  },
  {
   "cell_type": "markdown",
   "id": "4424f860",
   "metadata": {},
   "source": [
    "Because it's not square, an inverse cannot be calculated, but a pseudoinverse can be calculated, which is a generalization of matrix inversion to non-square matrices"
   ]
  },
  {
   "cell_type": "code",
   "execution_count": 4,
   "id": "913298a0",
   "metadata": {},
   "outputs": [
    {
     "name": "stdout",
     "output_type": "stream",
     "text": [
      "\n",
      "Pseudoinverse of the rectangular matrix:\n",
      "[[-0.937563  1.286187 -2.225164  1.757162]\n",
      " [ 1.651634 -0.235632  1.239162 -1.674908]\n",
      " [-0.794482  0.961896  0.517781 -0.332156]\n",
      " [-0.116677 -1.853612  1.048149  1.006819]\n",
      " [ 0.701803 -0.746969 -0.239781  0.430935]]\n"
     ]
    }
   ],
   "source": [
    "# Calculate the pseudoinverse of the rectangular matrix\n",
    "A_mat_inv = np.linalg.pinv(A_mat).round(6)\n",
    "\n",
    "print(\"\\nPseudoinverse of the rectangular matrix:\")\n",
    "print(A_mat_inv)"
   ]
  },
  {
   "cell_type": "code",
   "execution_count": 5,
   "id": "785a0036",
   "metadata": {},
   "outputs": [
    {
     "name": "stdout",
     "output_type": "stream",
     "text": [
      "It should be close to the identity matrix:\n",
      " [[ 1. -0. -0.  0.]\n",
      " [-0.  1. -0.  0.]\n",
      " [-0. -0.  1. -0.]\n",
      " [ 0. -0. -0.  1.]]\n"
     ]
    }
   ],
   "source": [
    "test = np.dot(A_mat, A_mat_inv).round(6)\n",
    "\n",
    "print(\"It should be close to the identity matrix:\\n\", test)"
   ]
  },
  {
   "cell_type": "markdown",
   "id": "8aec2aa3",
   "metadata": {},
   "source": [
    "#### Eigenvalues and eigenvectors of A’A and AA"
   ]
  },
  {
   "cell_type": "code",
   "execution_count": 6,
   "id": "4791c46b",
   "metadata": {},
   "outputs": [
    {
     "name": "stdout",
     "output_type": "stream",
     "text": [
      "Eigenvalues and eigenvectors of A*A^T:\n",
      "Eigenvalues:\n",
      "[7.34032238 0.39615266 0.05858135 0.14801459]\n",
      "Eigenvectors:\n",
      "[[-0.42933136 -0.79332227 -0.42599256 -0.06960387]\n",
      " [-0.49093415  0.12612323  0.38585297 -0.77083985]\n",
      " [-0.48158263  0.59543483 -0.63741568  0.08506928]\n",
      " [-0.58543694 -0.01378653  0.51317549  0.62747465]]\n",
      "\n",
      "Eigenvalues and eigenvectors of A^T*A:\n",
      "Eigenvalues:\n",
      "[ 7.34032238e+00  3.96152662e-01 -1.12174112e-16  5.85813497e-02\n",
      "  1.48014590e-01]\n",
      "Eigenvectors:\n",
      "[[-0.50397154 -0.27892618 -0.24978311  0.77832938 -0.0049649 ]\n",
      " [-0.56793627 -0.36446748 -0.28355037 -0.59150805 -0.3381261 ]\n",
      " [-0.50401043  0.66999168  0.43295117  0.05060911 -0.32722568]\n",
      " [-0.36333133  0.29519366 -0.22920037 -0.19773115  0.83019313]\n",
      " [-0.19345522 -0.50332444  0.78563863 -0.05160149  0.29891272]]\n"
     ]
    }
   ],
   "source": [
    "# Calculate A*A^T (A times its transpose)\n",
    "AAT = np.dot(A_mat, A_mat.T)\n",
    "\n",
    "# Calculate A^T*A (Transpose of A times A)\n",
    "ATA = np.dot(A_mat.T, A_mat)\n",
    "\n",
    "# Calculate the eigenvalues and eigenvectors of A*A^T\n",
    "eigenvalues_AAT, eigenvectors_AAT = np.linalg.eig(AAT)\n",
    "\n",
    "# Calculate the eigenvalues and eigenvectors of A^T*A\n",
    "eigenvalues_ATA, eigenvectors_ATA = np.linalg.eig(ATA)\n",
    "\n",
    "# Print the results\n",
    "print(\"Eigenvalues and eigenvectors of A*A^T:\")\n",
    "print(\"Eigenvalues:\")\n",
    "print(eigenvalues_AAT)\n",
    "print(\"Eigenvectors:\")\n",
    "print(eigenvectors_AAT)\n",
    "\n",
    "print(\"\\nEigenvalues and eigenvectors of A^T*A:\")\n",
    "print(\"Eigenvalues:\")\n",
    "print(eigenvalues_ATA)\n",
    "print(\"Eigenvectors:\")\n",
    "print(eigenvectors_ATA)"
   ]
  },
  {
   "cell_type": "markdown",
   "id": "fcd0f2d0",
   "metadata": {},
   "source": [
    "The Singular Value Theorem states that if A is a rectangular matrix with real or complex entries, then the singular values of A are the square roots of the non-negative eigenvalues of the matrices A * A^T and A^T * A. In the case of square matrices (with the same number of rows and columns), the singular values are simply the eigenvalues of the matrix.\n",
    "\n",
    "The underlying reason for this is that the matrix A * A^T (or A^T * A) is always positive semidefinite, which means all its eigenvalues are non-negative. This ensures that the square roots of these eigenvalues are real and non-negative, which are precisely the singular values of A.\n",
    "\n",
    "In summary, the eigenvalues of A * A^T are contained in the eigenvalues of A^T * A because the former are the squares of the singular values of A, and all singular values are non-negative."
   ]
  }
 ],
 "metadata": {
  "kernelspec": {
   "display_name": "Python 3 (ipykernel)",
   "language": "python",
   "name": "python3"
  },
  "language_info": {
   "codemirror_mode": {
    "name": "ipython",
    "version": 3
   },
   "file_extension": ".py",
   "mimetype": "text/x-python",
   "name": "python",
   "nbconvert_exporter": "python",
   "pygments_lexer": "ipython3",
   "version": "3.10.11"
  }
 },
 "nbformat": 4,
 "nbformat_minor": 5
}
